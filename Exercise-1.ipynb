{
 "cells": [
  {
   "cell_type": "code",
   "execution_count": 25,
   "id": "43ca8008-9a1b-4c64-9fa6-0f673aa5532e",
   "metadata": {},
   "outputs": [],
   "source": [
    "ice_cream_rating = 8\n",
    "sleeping_rating = 7"
   ]
  },
  {
   "cell_type": "code",
   "execution_count": 2,
   "id": "54a5c0f0-b8da-4226-9b35-69077dcbf28d",
   "metadata": {},
   "outputs": [
    {
     "name": "stdin",
     "output_type": "stream",
     "text": [
      "What is your first name? Keijo\n"
     ]
    }
   ],
   "source": [
    "first_name = input(\"What is your first name?\")"
   ]
  },
  {
   "cell_type": "code",
   "execution_count": 5,
   "id": "6f75a8e4-c07e-430e-b7b6-0cc8a4b641a0",
   "metadata": {},
   "outputs": [
    {
     "name": "stdin",
     "output_type": "stream",
     "text": [
      "What is your last name? Vilhunen\n"
     ]
    }
   ],
   "source": [
    "last_name = input(\"What is your last name?\")"
   ]
  },
  {
   "cell_type": "code",
   "execution_count": 21,
   "id": "a018b961-117c-467f-8800-41e5a8713093",
   "metadata": {},
   "outputs": [],
   "source": [
    "my_name = first_name + \" \" + last_name"
   ]
  },
  {
   "cell_type": "code",
   "execution_count": 26,
   "id": "6f8eaf7a-0823-476a-95c8-132cb8ba1181",
   "metadata": {},
   "outputs": [],
   "source": [
    "happiness_rating = (ice_cream_rating + sleeping_rating)/2"
   ]
  },
  {
   "cell_type": "code",
   "execution_count": 27,
   "id": "517e0e15-a3dc-44eb-9335-ec5fefa19eb4",
   "metadata": {},
   "outputs": [
    {
     "name": "stdout",
     "output_type": "stream",
     "text": [
      "7.5\n"
     ]
    }
   ],
   "source": [
    "print(happiness_rating)"
   ]
  },
  {
   "cell_type": "code",
   "execution_count": 28,
   "id": "527dbc6d-a8cd-4557-9f08-1120972a105d",
   "metadata": {},
   "outputs": [
    {
     "name": "stdout",
     "output_type": "stream",
     "text": [
      "<class 'int'> <class 'str'> <class 'float'>\n"
     ]
    }
   ],
   "source": [
    "print(type(ice_cream_rating), type(first_name), type(happiness_rating))"
   ]
  },
  {
   "cell_type": "markdown",
   "id": "1a98cff5-c86d-48f3-8e1a-d3755af9185c",
   "metadata": {
    "tags": []
   },
   "source": [
    "Data types were as excpected"
   ]
  },
  {
   "cell_type": "code",
   "execution_count": 35,
   "id": "cb215de7-19e3-404e-9872-37312f3420ea",
   "metadata": {},
   "outputs": [
    {
     "name": "stdout",
     "output_type": "stream",
     "text": [
      "My name is Keijo and I gave eating ice cream a score of 8 out of 10!\n",
      "I am Keijo Vilhunen and my sleeping enjoyment rating is 7 / 10!\n",
      "Based on the factors above, my happiness rating is 7.5 or 75.0 %!\n"
     ]
    }
   ],
   "source": [
    "print(\"My name is\", first_name, \"and I gave eating ice cream a score of\", ice_cream_rating, \"out of 10!\")\n",
    "print(\"I am\", my_name, \"and my sleeping enjoyment rating is\", sleeping_rating, \"/ 10!\")\n",
    "print(\"Based on the factors above, my happiness rating is\", happiness_rating, \"or\", happiness_rating*10, \"%!\")"
   ]
  },
  {
   "cell_type": "code",
   "execution_count": null,
   "id": "6c097a80-5aad-4810-8951-a8da6d7f6268",
   "metadata": {},
   "outputs": [],
   "source": []
  }
 ],
 "metadata": {
  "kernelspec": {
   "display_name": "Python 3 (ipykernel)",
   "language": "python",
   "name": "python3"
  },
  "language_info": {
   "codemirror_mode": {
    "name": "ipython",
    "version": 3
   },
   "file_extension": ".py",
   "mimetype": "text/x-python",
   "name": "python",
   "nbconvert_exporter": "python",
   "pygments_lexer": "ipython3",
   "version": "3.7.12"
  }
 },
 "nbformat": 4,
 "nbformat_minor": 5
}
